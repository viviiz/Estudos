{
  "nbformat": 4,
  "nbformat_minor": 0,
  "metadata": {
    "colab": {
      "name": "Recursividade Lógica",
      "provenance": [],
      "authorship_tag": "ABX9TyPyXQdq6CLMa1TFRsTN4KUD",
      "include_colab_link": true
    },
    "kernelspec": {
      "name": "python3",
      "display_name": "Python 3"
    },
    "language_info": {
      "name": "python"
    }
  },
  "cells": [
    {
      "cell_type": "markdown",
      "metadata": {
        "id": "view-in-github",
        "colab_type": "text"
      },
      "source": [
        "<a href=\"https://colab.research.google.com/github/viviiz/Estudos/blob/main/Recursividade_L%C3%B3gica.ipynb\" target=\"_parent\"><img src=\"https://colab.research.google.com/assets/colab-badge.svg\" alt=\"Open In Colab\"/></a>"
      ]
    },
    {
      "cell_type": "code",
      "execution_count": 28,
      "metadata": {
        "colab": {
          "base_uri": "https://localhost:8080/"
        },
        "id": "0uZ4gwN9Ljke",
        "outputId": "cfecdf97-cc94-498a-8ac9-fc36cfe4a5f2"
      },
      "outputs": [
        {
          "output_type": "stream",
          "name": "stdout",
          "text": [
            "30\n",
            "29\n",
            "28\n",
            "27\n",
            "26\n",
            "25\n",
            "24\n",
            "23\n",
            "22\n",
            "21\n",
            "20\n",
            "19\n",
            "18\n",
            "17\n",
            "16\n",
            "15\n",
            "14\n",
            "13\n",
            "12\n",
            "11\n",
            "10\n",
            "9\n",
            "8\n",
            "7\n",
            "6\n",
            "5\n",
            "4\n",
            "3\n",
            "2\n",
            "1\n",
            "decolar\n"
          ]
        }
      ],
      "source": [
        " #Exercícios em sala de aula \n",
        " #ETEPD \n",
        " #LPC1 \n",
        "  \n",
        "\n",
        "#Ex:1\n",
        " def contagemRegressiva(n=30):\n",
        "  while(n):\n",
        "    print(n)\n",
        "    n = n-1\n",
        "  if n==0:\n",
        "      print('decolar')\n",
        "  else:\n",
        "    print(n)\n",
        "\n",
        "contagemRegressiva(n=30)\n",
        "  "
      ]
    },
    {
      "cell_type": "code",
      "source": [
        " #Ex:2\n",
        " def contagemRegressiva(n=5):\n",
        "  while(n):\n",
        "    print(n)\n",
        "    n= n-1   \n",
        "contagemRegressiva(5) \n",
        "print('Decolar')"
      ],
      "metadata": {
        "colab": {
          "base_uri": "https://localhost:8080/"
        },
        "id": "pLf0Oi3yPYbZ",
        "outputId": "1449ddeb-d724-4ba4-fd26-7c0d7bacf23a"
      },
      "execution_count": 27,
      "outputs": [
        {
          "output_type": "stream",
          "name": "stdout",
          "text": [
            "5\n",
            "4\n",
            "3\n",
            "2\n",
            "1\n",
            "Decolar\n"
          ]
        }
      ]
    },
    {
      "cell_type": "code",
      "source": [
        ""
      ],
      "metadata": {
        "id": "aGlWGFAkP9mD"
      },
      "execution_count": null,
      "outputs": []
    },
    {
      "cell_type": "code",
      "source": [
        ""
      ],
      "metadata": {
        "id": "r18Uye0KQhBD"
      },
      "execution_count": null,
      "outputs": []
    }
  ]
}